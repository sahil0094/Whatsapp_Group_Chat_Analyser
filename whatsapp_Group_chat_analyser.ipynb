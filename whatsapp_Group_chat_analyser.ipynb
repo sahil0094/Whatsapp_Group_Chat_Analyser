{
 "cells": [
  {
   "cell_type": "code",
   "execution_count": 1,
   "metadata": {},
   "outputs": [],
   "source": [
    "#Importing libraries\n",
    "import pandas as pd\n",
    "import matplotlib.pyplot as plt\n",
    "import seaborn as sns\n",
    "import nltk\n",
    "import re\n",
    "import emoji\n",
    "import warnings\n",
    "warnings.filterwarnings('ignore')"
   ]
  },
  {
   "cell_type": "code",
   "execution_count": 56,
   "metadata": {},
   "outputs": [],
   "source": [
    "#Opening chat file using open method and encoding as utf8 to read all characters\n",
    "f=open('_chat.txt',mode='r',encoding='utf8')\n",
    "whatsapp=f.read()\n",
    "f.close()"
   ]
  },
  {
   "cell_type": "code",
   "execution_count": 57,
   "metadata": {},
   "outputs": [],
   "source": [
    "#Extracting all the timestamp(date+time) using regex\n",
    "timestamp=re.findall('\\d+\\/\\d+\\/\\d+, \\d+\\:\\d+\\:\\d+ \\w+',whatsapp)\n",
    "#Finding index of all the timestamp which will be used later to extract message content\n",
    "indexes=[whatsapp.find(i) for i  in timestamp]\n",
    "df=pd.DataFrame({'timestamp':timestamp,'indexes':indexes})"
   ]
  },
  {
   "cell_type": "code",
   "execution_count": 58,
   "metadata": {},
   "outputs": [
    {
     "name": "stdout",
     "output_type": "stream",
     "text": [
      "Author of the group is ['+916302217120']\n"
     ]
    }
   ],
   "source": [
    "#Finding author of the group\n",
    "author=re.findall('\\+\\d+',str(whatsapp[df.indexes[1]:df.indexes[2]].encode('ascii','ignore')))\n",
    "print(f'Author of the group is {author}')"
   ]
  },
  {
   "cell_type": "code",
   "execution_count": 59,
   "metadata": {},
   "outputs": [],
   "source": [
    "# Extracting complete message content by slicing on timestamp index\n",
    "#so that mulit line messages are also captured in single row \n",
    "df=df[3:]\n",
    "cont=[]\n",
    "for i in df.index:\n",
    "    try:\n",
    "        cont.append(whatsapp[df.indexes[i]:df.indexes[i+1]])\n",
    "    except:\n",
    "        cont.append(whatsapp[df.indexes[i]:])"
   ]
  },
  {
   "cell_type": "code",
   "execution_count": 60,
   "metadata": {},
   "outputs": [],
   "source": [
    "df['message']=cont"
   ]
  },
  {
   "cell_type": "code",
   "execution_count": 61,
   "metadata": {},
   "outputs": [
    {
     "data": {
      "text/html": [
       "<div>\n",
       "<style scoped>\n",
       "    .dataframe tbody tr th:only-of-type {\n",
       "        vertical-align: middle;\n",
       "    }\n",
       "\n",
       "    .dataframe tbody tr th {\n",
       "        vertical-align: top;\n",
       "    }\n",
       "\n",
       "    .dataframe thead th {\n",
       "        text-align: right;\n",
       "    }\n",
       "</style>\n",
       "<table border=\"1\" class=\"dataframe\">\n",
       "  <thead>\n",
       "    <tr style=\"text-align: right;\">\n",
       "      <th></th>\n",
       "      <th>timestamp</th>\n",
       "      <th>indexes</th>\n",
       "      <th>message</th>\n",
       "    </tr>\n",
       "  </thead>\n",
       "  <tbody>\n",
       "    <tr>\n",
       "      <th>3</th>\n",
       "      <td>13/12/19, 10:26:18 AM</td>\n",
       "      <td>245</td>\n",
       "      <td>13/12/19, 10:26:18 AM] ‪+91 98737 78438‬: Hell...</td>\n",
       "    </tr>\n",
       "    <tr>\n",
       "      <th>4</th>\n",
       "      <td>13/12/19, 10:26:56 AM</td>\n",
       "      <td>352</td>\n",
       "      <td>13/12/19, 10:26:56 AM] ‪+91 89774 42577‬: Can ...</td>\n",
       "    </tr>\n",
       "    <tr>\n",
       "      <th>5</th>\n",
       "      <td>13/12/19, 10:31:47 AM</td>\n",
       "      <td>421</td>\n",
       "      <td>13/12/19, 10:31:47 AM] ‪+91 98737 78438‬: ‎ima...</td>\n",
       "    </tr>\n",
       "    <tr>\n",
       "      <th>6</th>\n",
       "      <td>13/12/19, 10:32:03 AM</td>\n",
       "      <td>479</td>\n",
       "      <td>13/12/19, 10:32:03 AM] ‪+91 98737 78438‬: Line...</td>\n",
       "    </tr>\n",
       "    <tr>\n",
       "      <th>7</th>\n",
       "      <td>13/12/19, 10:42:06 AM</td>\n",
       "      <td>534</td>\n",
       "      <td>13/12/19, 10:42:06 AM] ‪+91 89774 42577‬: It w...</td>\n",
       "    </tr>\n",
       "  </tbody>\n",
       "</table>\n",
       "</div>"
      ],
      "text/plain": [
       "               timestamp  indexes  \\\n",
       "3  13/12/19, 10:26:18 AM      245   \n",
       "4  13/12/19, 10:26:56 AM      352   \n",
       "5  13/12/19, 10:31:47 AM      421   \n",
       "6  13/12/19, 10:32:03 AM      479   \n",
       "7  13/12/19, 10:42:06 AM      534   \n",
       "\n",
       "                                             message  \n",
       "3  13/12/19, 10:26:18 AM] ‪+91 98737 78438‬: Hell...  \n",
       "4  13/12/19, 10:26:56 AM] ‪+91 89774 42577‬: Can ...  \n",
       "5  13/12/19, 10:31:47 AM] ‪+91 98737 78438‬: ‎ima...  \n",
       "6  13/12/19, 10:32:03 AM] ‪+91 98737 78438‬: Line...  \n",
       "7  13/12/19, 10:42:06 AM] ‪+91 89774 42577‬: It w...  "
      ]
     },
     "execution_count": 61,
     "metadata": {},
     "output_type": "execute_result"
    }
   ],
   "source": [
    "df.head()"
   ]
  },
  {
   "cell_type": "code",
   "execution_count": 62,
   "metadata": {},
   "outputs": [],
   "source": [
    "#Extracting Sender from the message part\n",
    "df['Sender']=df.message.str.extract('(\\]\\+*.*?\\:)')\n",
    "df.Sender=df.Sender.astype(str)\n",
    "df.Sender=df.Sender.apply(lambda x:x[1:-1])"
   ]
  },
  {
   "cell_type": "code",
   "execution_count": 63,
   "metadata": {},
   "outputs": [],
   "source": [
    "#Extracting message content separately without sender and timestamp\n",
    "df.message=df.message.str.extract('(: .*)',re.S)\n",
    "df.message=df.message.astype(str)\n",
    "df.message=df.message.apply(lambda x:x[1:-2])\n",
    "df.message=df.message.str.replace('\\n','')"
   ]
  },
  {
   "cell_type": "code",
   "execution_count": 65,
   "metadata": {},
   "outputs": [],
   "source": [
    "#Extracting time and date separately from timestamp column\n",
    "df['Date']=df.timestamp.str.extract('(\\d+\\/\\d+\\/\\d+)')\n",
    "df['Time']=df.timestamp.str.extract('(\\d+\\:\\d+\\:\\d+ \\w+)')"
   ]
  },
  {
   "cell_type": "code",
   "execution_count": 66,
   "metadata": {},
   "outputs": [],
   "source": [
    "#Removing redundant columns\n",
    "df=df[['Date','Time','Sender','message']]\n",
    "df=df.reset_index(drop=True)"
   ]
  },
  {
   "cell_type": "code",
   "execution_count": 67,
   "metadata": {},
   "outputs": [
    {
     "data": {
      "text/html": [
       "<div>\n",
       "<style scoped>\n",
       "    .dataframe tbody tr th:only-of-type {\n",
       "        vertical-align: middle;\n",
       "    }\n",
       "\n",
       "    .dataframe tbody tr th {\n",
       "        vertical-align: top;\n",
       "    }\n",
       "\n",
       "    .dataframe thead th {\n",
       "        text-align: right;\n",
       "    }\n",
       "</style>\n",
       "<table border=\"1\" class=\"dataframe\">\n",
       "  <thead>\n",
       "    <tr style=\"text-align: right;\">\n",
       "      <th></th>\n",
       "      <th>Date</th>\n",
       "      <th>Time</th>\n",
       "      <th>Sender</th>\n",
       "      <th>message</th>\n",
       "    </tr>\n",
       "  </thead>\n",
       "  <tbody>\n",
       "    <tr>\n",
       "      <th>0</th>\n",
       "      <td>13/12/19</td>\n",
       "      <td>10:26:18 AM</td>\n",
       "      <td>‪+91 98737 78438‬</td>\n",
       "      <td>Hello everyone,I have one doubt regarding (?:...</td>\n",
       "    </tr>\n",
       "    <tr>\n",
       "      <th>1</th>\n",
       "      <td>13/12/19</td>\n",
       "      <td>10:26:56 AM</td>\n",
       "      <td>‪+91 89774 42577‬</td>\n",
       "      <td>Can you send full line ?</td>\n",
       "    </tr>\n",
       "    <tr>\n",
       "      <th>2</th>\n",
       "      <td>13/12/19</td>\n",
       "      <td>10:31:47 AM</td>\n",
       "      <td>‪+91 98737 78438‬</td>\n",
       "      <td>‎image omitted</td>\n",
       "    </tr>\n",
       "    <tr>\n",
       "      <th>3</th>\n",
       "      <td>13/12/19</td>\n",
       "      <td>10:32:03 AM</td>\n",
       "      <td>‪+91 98737 78438‬</td>\n",
       "      <td>Line no. 39</td>\n",
       "    </tr>\n",
       "    <tr>\n",
       "      <th>4</th>\n",
       "      <td>13/12/19</td>\n",
       "      <td>10:42:06 AM</td>\n",
       "      <td>‪+91 89774 42577‬</td>\n",
       "      <td>It will find the word but you cannot retrieve...</td>\n",
       "    </tr>\n",
       "  </tbody>\n",
       "</table>\n",
       "</div>"
      ],
      "text/plain": [
       "       Date         Time              Sender  \\\n",
       "0  13/12/19  10:26:18 AM   ‪+91 98737 78438‬   \n",
       "1  13/12/19  10:26:56 AM   ‪+91 89774 42577‬   \n",
       "2  13/12/19  10:31:47 AM   ‪+91 98737 78438‬   \n",
       "3  13/12/19  10:32:03 AM   ‪+91 98737 78438‬   \n",
       "4  13/12/19  10:42:06 AM   ‪+91 89774 42577‬   \n",
       "\n",
       "                                             message  \n",
       "0   Hello everyone,I have one doubt regarding (?:...  \n",
       "1                           Can you send full line ?  \n",
       "2                                     ‎image omitted  \n",
       "3                                        Line no. 39  \n",
       "4   It will find the word but you cannot retrieve...  "
      ]
     },
     "execution_count": 67,
     "metadata": {},
     "output_type": "execute_result"
    }
   ],
   "source": [
    "df.head()"
   ]
  },
  {
   "cell_type": "markdown",
   "metadata": {},
   "source": [
    "### Number of messages sent by each member of the group"
   ]
  },
  {
   "cell_type": "code",
   "execution_count": 68,
   "metadata": {},
   "outputs": [
    {
     "data": {
      "text/plain": [
       "49"
      ]
     },
     "execution_count": 68,
     "metadata": {},
     "output_type": "execute_result"
    }
   ],
   "source": [
    "df.Sender.nunique()"
   ]
  },
  {
   "cell_type": "code",
   "execution_count": 69,
   "metadata": {},
   "outputs": [],
   "source": [
    "d=dict()\n",
    "for i in df.Sender.str.encode('ascii','ignore').str.decode('utf-8'):\n",
    "    d[i]=d.get(i,0)+1\n",
    "Sender=list(d.keys())\n",
    "No_of_messages=list(d.values())\n",
    "\n",
    "    "
   ]
  },
  {
   "cell_type": "code",
   "execution_count": 70,
   "metadata": {},
   "outputs": [],
   "source": [
    "df_message=pd.DataFrame({'Sender':Sender,'No_of_Messages':No_of_messages},index=np.arange(0,len(d)))"
   ]
  },
  {
   "cell_type": "code",
   "execution_count": 71,
   "metadata": {},
   "outputs": [
    {
     "data": {
      "text/html": [
       "<div>\n",
       "<style scoped>\n",
       "    .dataframe tbody tr th:only-of-type {\n",
       "        vertical-align: middle;\n",
       "    }\n",
       "\n",
       "    .dataframe tbody tr th {\n",
       "        vertical-align: top;\n",
       "    }\n",
       "\n",
       "    .dataframe thead th {\n",
       "        text-align: right;\n",
       "    }\n",
       "</style>\n",
       "<table border=\"1\" class=\"dataframe\">\n",
       "  <thead>\n",
       "    <tr style=\"text-align: right;\">\n",
       "      <th></th>\n",
       "      <th>Sender</th>\n",
       "      <th>No_of_Messages</th>\n",
       "    </tr>\n",
       "  </thead>\n",
       "  <tbody>\n",
       "    <tr>\n",
       "      <th>0</th>\n",
       "      <td>+919873778438</td>\n",
       "      <td>11</td>\n",
       "    </tr>\n",
       "    <tr>\n",
       "      <th>1</th>\n",
       "      <td>+918977442577</td>\n",
       "      <td>22</td>\n",
       "    </tr>\n",
       "    <tr>\n",
       "      <th>2</th>\n",
       "      <td>+919131014850</td>\n",
       "      <td>5</td>\n",
       "    </tr>\n",
       "    <tr>\n",
       "      <th>3</th>\n",
       "      <td>+918296770134</td>\n",
       "      <td>17</td>\n",
       "    </tr>\n",
       "    <tr>\n",
       "      <th>4</th>\n",
       "      <td>+919662807005</td>\n",
       "      <td>64</td>\n",
       "    </tr>\n",
       "  </tbody>\n",
       "</table>\n",
       "</div>"
      ],
      "text/plain": [
       "           Sender  No_of_Messages\n",
       "0   +919873778438              11\n",
       "1   +918977442577              22\n",
       "2   +919131014850               5\n",
       "3   +918296770134              17\n",
       "4   +919662807005              64"
      ]
     },
     "execution_count": 71,
     "metadata": {},
     "output_type": "execute_result"
    }
   ],
   "source": [
    "df_message.head()"
   ]
  },
  {
   "cell_type": "code",
   "execution_count": 72,
   "metadata": {},
   "outputs": [
    {
     "data": {
      "image/png": "[encoded data removed]",
      "text/plain": [
       "<Figure size 432x288 with 1 Axes>"
      ]
     },
     "metadata": {
      "needs_background": "light"
     },
     "output_type": "display_data"
    }
   ],
   "source": [
    "# Top 5 people who message the most\n",
    "a=df_message.sort_values(by='No_of_Messages',ascending=False).head()\n",
    "sns.barplot(x=a.Sender,y=a.No_of_Messages)\n",
    "plt.xticks(rotation=90)\n",
    "plt.show()"
   ]
  },
  {
   "cell_type": "markdown",
   "metadata": {},
   "source": [
    "### No of messages in each hour of day"
   ]
  },
  {
   "cell_type": "code",
   "execution_count": 73,
   "metadata": {},
   "outputs": [
    {
     "data": {
      "text/plain": [
       "28"
      ]
     },
     "execution_count": 73,
     "metadata": {},
     "output_type": "execute_result"
    }
   ],
   "source": [
    "df.Date.nunique()"
   ]
  },
  {
   "cell_type": "code",
   "execution_count": 74,
   "metadata": {},
   "outputs": [],
   "source": [
    "#separating PM and AM Time\n",
    "AM=[]\n",
    "PM=[]\n",
    "for i in df.Time:\n",
    "    if'AM' in i:\n",
    "        AM.append(i.split(' AM')[0].split(':')[0])\n",
    "    else:\n",
    "        PM.append(i.split(' PM')[0].split(':')[0])"
   ]
  },
  {
   "cell_type": "code",
   "execution_count": 75,
   "metadata": {},
   "outputs": [],
   "source": [
    "#Converting into 24 hour format\n",
    "for i in range(0,len(PM)):\n",
    "    if PM[i]!='12':\n",
    "        PM[i]=int(PM[i])+12\n",
    "    else:\n",
    "        PM[i]=int(PM[i])\n",
    "AM=[int(i) for i in AM]"
   ]
  },
  {
   "cell_type": "code",
   "execution_count": 76,
   "metadata": {},
   "outputs": [],
   "source": [
    "df['Hour']=AM+PM\n",
    "df_hour=dict()\n",
    "for i in df.Hour:\n",
    "    df_hour[i]=df_hour.get(i,0)+1"
   ]
  },
  {
   "cell_type": "code",
   "execution_count": 77,
   "metadata": {},
   "outputs": [
    {
     "data": {
      "image/png": "[encoded data removed]",
      "text/plain": [
       "<Figure size 1080x432 with 1 Axes>"
      ]
     },
     "metadata": {
      "needs_background": "light"
     },
     "output_type": "display_data"
    }
   ],
   "source": [
    "plt.figure(figsize=(15,6))\n",
    "sns.barplot(x=list(df_hour.keys()),y=list(df_hour.values()),palette=(\"Blues_d\"))\n",
    "plt.xlabel('Hour of the Day(24-Hour format)')\n",
    "plt.ylabel('Frequency of Texts')\n",
    "plt.show()"
   ]
  },
  {
   "cell_type": "code",
   "execution_count": 78,
   "metadata": {},
   "outputs": [],
   "source": [
    "#We can infer here that most message exchanged are around 3 PM"
   ]
  },
  {
   "cell_type": "markdown",
   "metadata": {},
   "source": [
    "### Most active day of week"
   ]
  },
  {
   "cell_type": "code",
   "execution_count": 79,
   "metadata": {},
   "outputs": [],
   "source": [
    "import datetime\n",
    "def findDay(date): \n",
    "    day, month, year = (int(i) for i in str(date).split('/'))     \n",
    "    time1 = datetime.date(year, month, day) \n",
    "    return time1.strftime(\"%a\") "
   ]
  },
  {
   "cell_type": "code",
   "execution_count": 80,
   "metadata": {},
   "outputs": [],
   "source": [
    "df['Day']=df.Date.apply(lambda x:findDay(x))"
   ]
  },
  {
   "cell_type": "code",
   "execution_count": 81,
   "metadata": {},
   "outputs": [
    {
     "data": {
      "image/png": "[encoded data removed]",
      "text/plain": [
       "<Figure size 432x288 with 1 Axes>"
      ]
     },
     "metadata": {
      "needs_background": "light"
     },
     "output_type": "display_data"
    }
   ],
   "source": [
    "df.groupby(by='Day')['Day'].count().plot.bar(color='indianred')\n",
    "plt.show()"
   ]
  },
  {
   "cell_type": "code",
   "execution_count": 82,
   "metadata": {},
   "outputs": [],
   "source": [
    "#Here we can clearly see that most messages are exchanged on Monday."
   ]
  },
  {
   "cell_type": "markdown",
   "metadata": {},
   "source": [
    "### Count of emojis"
   ]
  },
  {
   "cell_type": "code",
   "execution_count": 83,
   "metadata": {},
   "outputs": [],
   "source": [
    "#Finding frequency of all emojis\n",
    "\n",
    "emojis=[j for i in df.message  for j in str(i) if j in emoji.UNICODE_EMOJI]\n",
    "emodict=dict()\n",
    "for i in emojis:\n",
    "    emodict[i]=emodict.get(i,0)+1\n",
    "    "
   ]
  },
  {
   "cell_type": "code",
   "execution_count": 94,
   "metadata": {},
   "outputs": [],
   "source": [
    "emo=pd.DataFrame({'emoji':list(emodict.keys()),'Freq':list(emodict.values())})\n",
    "emo=emo.sort_values(by='Freq',ascending=False)"
   ]
  },
  {
   "cell_type": "code",
   "execution_count": 100,
   "metadata": {},
   "outputs": [
    {
     "data": {
      "text/html": [
       "<div>\n",
       "<style scoped>\n",
       "    .dataframe tbody tr th:only-of-type {\n",
       "        vertical-align: middle;\n",
       "    }\n",
       "\n",
       "    .dataframe tbody tr th {\n",
       "        vertical-align: top;\n",
       "    }\n",
       "\n",
       "    .dataframe thead th {\n",
       "        text-align: right;\n",
       "    }\n",
       "</style>\n",
       "<table border=\"1\" class=\"dataframe\">\n",
       "  <thead>\n",
       "    <tr style=\"text-align: right;\">\n",
       "      <th></th>\n",
       "      <th>emoji</th>\n",
       "      <th>Freq</th>\n",
       "    </tr>\n",
       "  </thead>\n",
       "  <tbody>\n",
       "    <tr>\n",
       "      <th>0</th>\n",
       "      <td>👍</td>\n",
       "      <td>36</td>\n",
       "    </tr>\n",
       "    <tr>\n",
       "      <th>13</th>\n",
       "      <td>🏻</td>\n",
       "      <td>14</td>\n",
       "    </tr>\n",
       "    <tr>\n",
       "      <th>4</th>\n",
       "      <td>😊</td>\n",
       "      <td>8</td>\n",
       "    </tr>\n",
       "    <tr>\n",
       "      <th>1</th>\n",
       "      <td>😂</td>\n",
       "      <td>7</td>\n",
       "    </tr>\n",
       "    <tr>\n",
       "      <th>8</th>\n",
       "      <td>😀</td>\n",
       "      <td>5</td>\n",
       "    </tr>\n",
       "    <tr>\n",
       "      <th>19</th>\n",
       "      <td>😁</td>\n",
       "      <td>4</td>\n",
       "    </tr>\n",
       "    <tr>\n",
       "      <th>7</th>\n",
       "      <td>😅</td>\n",
       "      <td>4</td>\n",
       "    </tr>\n",
       "    <tr>\n",
       "      <th>12</th>\n",
       "      <td>✌</td>\n",
       "      <td>3</td>\n",
       "    </tr>\n",
       "    <tr>\n",
       "      <th>6</th>\n",
       "      <td>🤟</td>\n",
       "      <td>3</td>\n",
       "    </tr>\n",
       "    <tr>\n",
       "      <th>16</th>\n",
       "      <td>🏼</td>\n",
       "      <td>3</td>\n",
       "    </tr>\n",
       "    <tr>\n",
       "      <th>15</th>\n",
       "      <td>🤘</td>\n",
       "      <td>3</td>\n",
       "    </tr>\n",
       "    <tr>\n",
       "      <th>18</th>\n",
       "      <td>♂</td>\n",
       "      <td>2</td>\n",
       "    </tr>\n",
       "    <tr>\n",
       "      <th>11</th>\n",
       "      <td>🙏</td>\n",
       "      <td>2</td>\n",
       "    </tr>\n",
       "    <tr>\n",
       "      <th>20</th>\n",
       "      <td>👆</td>\n",
       "      <td>2</td>\n",
       "    </tr>\n",
       "    <tr>\n",
       "      <th>10</th>\n",
       "      <td>😃</td>\n",
       "      <td>2</td>\n",
       "    </tr>\n",
       "    <tr>\n",
       "      <th>23</th>\n",
       "      <td>🤔</td>\n",
       "      <td>2</td>\n",
       "    </tr>\n",
       "    <tr>\n",
       "      <th>22</th>\n",
       "      <td>🥳</td>\n",
       "      <td>1</td>\n",
       "    </tr>\n",
       "    <tr>\n",
       "      <th>21</th>\n",
       "      <td>😉</td>\n",
       "      <td>1</td>\n",
       "    </tr>\n",
       "    <tr>\n",
       "      <th>24</th>\n",
       "      <td>🤣</td>\n",
       "      <td>1</td>\n",
       "    </tr>\n",
       "    <tr>\n",
       "      <th>2</th>\n",
       "      <td>😳</td>\n",
       "      <td>1</td>\n",
       "    </tr>\n",
       "    <tr>\n",
       "      <th>14</th>\n",
       "      <td>🧐</td>\n",
       "      <td>1</td>\n",
       "    </tr>\n",
       "    <tr>\n",
       "      <th>17</th>\n",
       "      <td>🤷</td>\n",
       "      <td>1</td>\n",
       "    </tr>\n",
       "    <tr>\n",
       "      <th>3</th>\n",
       "      <td>😜</td>\n",
       "      <td>1</td>\n",
       "    </tr>\n",
       "    <tr>\n",
       "      <th>9</th>\n",
       "      <td>👌</td>\n",
       "      <td>1</td>\n",
       "    </tr>\n",
       "    <tr>\n",
       "      <th>5</th>\n",
       "      <td>😎</td>\n",
       "      <td>1</td>\n",
       "    </tr>\n",
       "    <tr>\n",
       "      <th>25</th>\n",
       "      <td>🤦</td>\n",
       "      <td>1</td>\n",
       "    </tr>\n",
       "  </tbody>\n",
       "</table>\n",
       "</div>"
      ],
      "text/plain": [
       "   emoji  Freq\n",
       "0      👍    36\n",
       "13     🏻    14\n",
       "4      😊     8\n",
       "1      😂     7\n",
       "8      😀     5\n",
       "19     😁     4\n",
       "7      😅     4\n",
       "12     ✌     3\n",
       "6      🤟     3\n",
       "16     🏼     3\n",
       "15     🤘     3\n",
       "18     ♂     2\n",
       "11     🙏     2\n",
       "20     👆     2\n",
       "10     😃     2\n",
       "23     🤔     2\n",
       "22     🥳     1\n",
       "21     😉     1\n",
       "24     🤣     1\n",
       "2      😳     1\n",
       "14     🧐     1\n",
       "17     🤷     1\n",
       "3      😜     1\n",
       "9      👌     1\n",
       "5      😎     1\n",
       "25     🤦     1"
      ]
     },
     "execution_count": 100,
     "metadata": {},
     "output_type": "execute_result"
    }
   ],
   "source": [
    "emo"
   ]
  },
  {
   "cell_type": "code",
   "execution_count": 99,
   "metadata": {},
   "outputs": [
    {
     "data": {
      "image/png": "[encoded data removed]",
      "text/plain": [
       "<Figure size 432x288 with 1 Axes>"
      ]
     },
     "metadata": {},
     "output_type": "display_data"
    }
   ],
   "source": [
    "from matplotlib.font_manager import FontProperties\n",
    "\n",
    "prop = FontProperties(fname='/System/Library/Fonts/Apple Color Emoji.ttc')\n",
    "plt.rcParams['font.family'] = prop.get_family()\n",
    "\n",
    "plt.pie(emo.Freq.head(),labels=emo.emoji.head(),autopct='%.0f%%')\n",
    "plt.show()"
   ]
  },
  {
   "cell_type": "code",
   "execution_count": 85,
   "metadata": {},
   "outputs": [],
   "source": [
    "#Clearly, Thumbs up 👍 is the most frequently used emoji and \n",
    "#we can say students are pretty satisfied from the course and hence the thumbs up"
   ]
  },
  {
   "cell_type": "code",
   "execution_count": 87,
   "metadata": {},
   "outputs": [],
   "source": [
    "def emo_find(x):\n",
    "    for i in str(x):\n",
    "        if i in emoji.UNICODE_EMOJI:\n",
    "            return i\n",
    "        else:\n",
    "            return \"No emoji used\""
   ]
  },
  {
   "cell_type": "code",
   "execution_count": 88,
   "metadata": {},
   "outputs": [],
   "source": [
    "df['emo_used']=df.message.apply(lambda x:emo_find(x))"
   ]
  },
  {
   "cell_type": "code",
   "execution_count": 54,
   "metadata": {},
   "outputs": [
    {
     "data": {
      "text/plain": [
       "' \\u202a+91\\xa089774\\xa042577\\u202c'"
      ]
     },
     "execution_count": 54,
     "metadata": {},
     "output_type": "execute_result"
    }
   ],
   "source": [
    "df.Sender[1]"
   ]
  },
  {
   "cell_type": "code",
   "execution_count": 101,
   "metadata": {},
   "outputs": [],
   "source": [
    "df.drop(columns='emo_used',inplace=True)"
   ]
  },
  {
   "cell_type": "markdown",
   "metadata": {},
   "source": [
    "### Avg Message length, word length of each person"
   ]
  },
  {
   "cell_type": "code",
   "execution_count": 103,
   "metadata": {},
   "outputs": [],
   "source": [
    "df['Message_length']=df.message.apply(lambda x:len(x))"
   ]
  },
  {
   "cell_type": "code",
   "execution_count": 128,
   "metadata": {},
   "outputs": [],
   "source": [
    "a=df.groupby(by='Sender')['Message_length'].mean().sort_values(ascending=False).reset_index()"
   ]
  },
  {
   "cell_type": "code",
   "execution_count": 130,
   "metadata": {},
   "outputs": [
    {
     "data": {
      "image/png": "[encoded data removed]",
      "text/plain": [
       "<Figure size 432x288 with 1 Axes>"
      ]
     },
     "metadata": {
      "needs_background": "light"
     },
     "output_type": "display_data"
    }
   ],
   "source": [
    "sns.barplot(x=a.Sender.head(),y=a.Message_length.head())\n",
    "plt.xticks(rotation=90)\n",
    "plt.show()"
   ]
  },
  {
   "cell_type": "code",
   "execution_count": 131,
   "metadata": {},
   "outputs": [],
   "source": [
    "#Here we can see the avg message length of member(+1 (972) 266-1423) is thr highest "
   ]
  },
  {
   "cell_type": "code",
   "execution_count": 132,
   "metadata": {},
   "outputs": [],
   "source": [
    "import nltk"
   ]
  },
  {
   "cell_type": "code",
   "execution_count": 134,
   "metadata": {},
   "outputs": [],
   "source": [
    "df['Word_count']=df.message.apply(lambda x:len(nltk.word_tokenize(x)) )"
   ]
  },
  {
   "cell_type": "code",
   "execution_count": 137,
   "metadata": {},
   "outputs": [],
   "source": [
    "b=df.groupby(by='Sender')['Word_count'].mean().sort_values(ascending=False).reset_index()"
   ]
  },
  {
   "cell_type": "code",
   "execution_count": 138,
   "metadata": {},
   "outputs": [
    {
     "data": {
      "image/png": "[encoded data removed]",
      "text/plain": [
       "<Figure size 432x288 with 1 Axes>"
      ]
     },
     "metadata": {
      "needs_background": "light"
     },
     "output_type": "display_data"
    }
   ],
   "source": [
    "sns.barplot(x=b.Sender.head(),y=b.Word_count.head())\n",
    "plt.xticks(rotation=90)\n",
    "plt.show()"
   ]
  },
  {
   "cell_type": "code",
   "execution_count": null,
   "metadata": {},
   "outputs": [],
   "source": []
  }
 ],
 "metadata": {
  "kernelspec": {
   "display_name": "Python 3",
   "language": "python",
   "name": "python3"
  },
  "language_info": {
   "codemirror_mode": {
    "name": "ipython",
    "version": 3
   },
   "file_extension": ".py",
   "mimetype": "text/x-python",
   "name": "python",
   "nbconvert_exporter": "python",
   "pygments_lexer": "ipython3",
   "version": "3.7.3"
  }
 },
 "nbformat": 4,
 "nbformat_minor": 2
}
